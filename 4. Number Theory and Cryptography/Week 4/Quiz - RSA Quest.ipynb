{
 "cells": [
  {
   "cell_type": "raw",
   "metadata": {},
   "source": [
    "This notebook will walk you through the cryptographic quest we've created for you! \n",
    "\n",
    "You're going to solve a series of puzzles. First few of them will lead you to a secret link containing more puzzles and instructions, then you'll get another link, and so on. In the end, you will get the final answer. You'll be able to get points for the course for solving some parts of this quest. To do so, you will need to submit the information you get in this notebook to the next quiz called \"RSA Quest Quiz\".\n",
    "\n",
    "You won't need to do any programming or guesswork in this notebook. If you've solved some of the questions in the previous quiz, \"RSA Quiz\", you'll need to copy the code of your solutions to the corresponding functions in this notebook, launch the corresponding parts of the notebook and get the keys. You will be able to get some points even if you didn't solve all the questions of the \"RSA Quiz\"!"
   ]
  },
  {
   "cell_type": "raw",
   "metadata": {},
   "source": [
    "And the first puzzle is based on the question 2 of the \"RSA Quiz\". In the next part of the notebook, first go some utility functions, then goes the main function \"Decrypt\". Please copy the code of your correct implementation of the function Decrypt in that question so as to substitute our current implementation, then launch the corresponding parts of the notebook to get the first part of secret link."
   ]
  },
  {
   "cell_type": "code",
   "execution_count": 1,
   "metadata": {},
   "outputs": [
    {
     "name": "stdout",
     "output_type": "stream",
     "text": [
      "2fD8Sdx\n"
     ]
    }
   ],
   "source": [
    "import sys, threading\n",
    "\n",
    "\n",
    "sys.setrecursionlimit(10**7)\n",
    "threading.stack_size(2**27)\n",
    "\n",
    "\n",
    "def ConvertToInt(message_str):\n",
    "    res = 0\n",
    "    for i in range(len(message_str)):\n",
    "        res = res * 256 + ord(message_str[i])\n",
    "    return res\n",
    "\n",
    "def ConvertToStr(n):\n",
    "    res = \"\"\n",
    "    while n > 0:\n",
    "        res += chr(n % 256)\n",
    "        n //= 256\n",
    "    return res[::-1]\n",
    "\n",
    "def PowMod(a, n, mod):\n",
    "    if n == 0:\n",
    "        return 1 % mod\n",
    "    elif n == 1:\n",
    "        return a % mod\n",
    "    else:\n",
    "        b = PowMod(a, n // 2, mod)\n",
    "        b = b * b % mod\n",
    "        if n % 2 == 0:\n",
    "            return b\n",
    "        else:\n",
    "            return b * a % mod\n",
    "\n",
    "def ExtendedEuclid(a, b):\n",
    "    if b == 0:\n",
    "        return (1, 0)\n",
    "    (x, y) = ExtendedEuclid(b, a % b)\n",
    "    k = a // b\n",
    "    return (y, x - k * y)\n",
    "\n",
    "def InvertModulo(a, n):\n",
    "    (b, x) = ExtendedEuclid(a, n)\n",
    "    if b < 0:\n",
    "        b = (b % n + n) % n\n",
    "    return b\n",
    "\n",
    "def Decrypt(ciphertext, p, q, exponent):\n",
    "    # Substitute this implementation with your code from question 2 of the \"RSA Quiz\".\n",
    "    d = InvertModulo(exponent, (p-1)*(q-1))\n",
    "    return ConvertToStr(PowMod(ciphertext, d, p * q))\n",
    "\n",
    "p = 779849711281\n",
    "q = 748173698927\n",
    "e = 1018651\n",
    "ciphertext = 148784435264686331994392\n",
    "decrypt_first_puzzle = Decrypt(ciphertext, p, q, e)\n",
    "print(decrypt_first_puzzle)"
   ]
  },
  {
   "cell_type": "raw",
   "metadata": {},
   "source": [
    "The second puzzle is based on the questions 1 and 3 of the \"RSA Quiz\". Here, you need to substitute our implementation of the function \"Encrypt\" with your implementation from question 1 and substitute our implementation of the function \"DecipherSimple\" with your implementation from the question 3 of the \"RSA Quiz\" to get the second part of the secret link."
   ]
  },
  {
   "cell_type": "code",
   "execution_count": 2,
   "metadata": {},
   "outputs": [
    {
     "name": "stdout",
     "output_type": "stream",
     "text": [
      "http://bit.ly/\n"
     ]
    }
   ],
   "source": [
    "def Encrypt(message, modulo, exponent):\n",
    "    # Substitute this implementation with your code from question 1 of the \"RSA Quiz\".\n",
    "    # Fix this implementation\n",
    "    return PowMod(ConvertToInt(message), exponent, modulo)\n",
    "\n",
    "def DecipherSimple(ciphertext, modulo, exponent, potential_messages):\n",
    "    # Substitute this implementation with your code from question 3 of the \"RSA Quiz\".\n",
    "    # Fix this implementation\n",
    "    for potential_message in potential_messages:\n",
    "        if ciphertext == Encrypt(potential_message, modulo, exponent):\n",
    "            return potential_message\n",
    "    return \"don't know\"\n",
    "\n",
    "ciphertext = 336184023047118677086739\n",
    "modulo = 1110014195838866450995043\n",
    "exponent = 767549\n",
    "potential_messages = [\"http://goo.gl/\", \"http://tinyurl.com/\", \"http://bit.ly/\", \"http://t.co/\", \"http://ow.ly/\", \"https://is.gd/\", \"https://buff.ly/\", \"http://adf.ly/\", \"http://bit.do/\"]\n",
    "decrypt_second_puzzle = DecipherSimple(ciphertext, modulo, exponent, potential_messages)\n",
    "print decrypt_second_puzzle"
   ]
  },
  {
   "cell_type": "raw",
   "metadata": {},
   "source": [
    "Now you're ready to construct the secret link. Just run the next part of the notebook to get it. Then follow the link to get more instructions. Also, if you follow the correct link, you will already get the answer to the first question of the following \"RSA Quest Quiz\"!"
   ]
  },
  {
   "cell_type": "code",
   "execution_count": 3,
   "metadata": {},
   "outputs": [
    {
     "name": "stdout",
     "output_type": "stream",
     "text": [
      "http://bit.ly/2fD8Sdx\n"
     ]
    }
   ],
   "source": [
    "secret_link = decrypt_second_puzzle + decrypt_first_puzzle\n",
    "print(secret_link)"
   ]
  },
  {
   "cell_type": "raw",
   "metadata": {},
   "source": [
    "Substitute the implementation of the function \"DecipherSmallPrime\" below with your implementation from \"RSA Quiz\", question 4. Also, insert the values for the ciphertext, modulo and exponent from the secret document. Then launch to get the first part of the next secret link."
   ]
  },
  {
   "cell_type": "code",
   "execution_count": 4,
   "metadata": {},
   "outputs": [
    {
     "name": "stdout",
     "output_type": "stream",
     "text": [
      "https://docs.google.com/document/d/1kubEo4ODZ_1YZl8Hvi9_\n"
     ]
    }
   ],
   "source": [
    "def DecipherSmallPrime(ciphertext, modulo, exponent):  \n",
    "    # Substitute this implementation with your code from question 4 of the \"RSA Quiz\".\n",
    "    for p in range(3, 1000000):\n",
    "        if modulo % p == 0:\n",
    "            small_prime = p\n",
    "            big_prime = modulo // p\n",
    "            break\n",
    "    return Decrypt(ciphertext, small_prime, big_prime, exponent)\n",
    "    return \"don't know\"\n",
    "\n",
    "ciphertext = 2275574988111277110437311214647848935000427550724521671610776681372035260669927879546598212402059626568529572296378786125308417822064565716822176055495534704248368924219660507214955218285229437531331022539446136060045737304497347919927268903882567968402406701512120140117419155759639779776379512631504909857\n",
    "modulo = 4517997441484302732739462818197633745340869919448215356148620255867108411028738486895653782573554891335084161684285442351914740415677262295900238601126392055761648706990593425725625329173683080677363007706828763867611649178136159927562319810830366004181626803874119100160889961902072311468445073289996506931\n",
    "exponent = 1927740953777951565602110467665746890410015037617105427402060961409149865403375973001399584612131360178672080227818127622463053259278787951537329431243\n",
    "decrypt_third_puzzle = DecipherSmallPrime(ciphertext, modulo, exponent)\n",
    "print(decrypt_third_puzzle)"
   ]
  },
  {
   "cell_type": "raw",
   "metadata": {},
   "source": [
    "Substitute the implementation of the function \"DecipherSmallDiff\" below with your implementation from \"RSA Quiz\", question 5. Also, insert the values for the ciphertext, modulo and exponent from the secret document. Then launch to get the second part of the next secret link."
   ]
  },
  {
   "cell_type": "code",
   "execution_count": 5,
   "metadata": {},
   "outputs": [
    {
     "name": "stdout",
     "output_type": "stream",
     "text": [
      "73Gvk0oRTa0REiJHELNxUQo/edit?usp=sharing\n"
     ]
    }
   ],
   "source": [
    "def IntSqrt(n):\n",
    "    low = 1\n",
    "    high = n\n",
    "    iterations = 0\n",
    "    while low < high and iterations < 5000:\n",
    "        iterations += 1\n",
    "        mid = (low + high + 1) // 2\n",
    "        if mid * mid <= n:\n",
    "            low = mid\n",
    "        else:\n",
    "            high = mid - 1\n",
    "    return low\n",
    "\n",
    "def DecipherSmallDiff(ciphertext, modulo, exponent):  \n",
    "    # Substitute this implementation with your code from question 5 of the \"RSA Quiz\".\n",
    "    for p in range(IntSqrt(modulo)-5000, IntSqrt(modulo)+1):\n",
    "        if modulo % p == 0:\n",
    "            small_prime = p\n",
    "            big_prime = modulo // p\n",
    "            break\n",
    "    return Decrypt(ciphertext, small_prime, big_prime, exponent)\n",
    "    \n",
    "ciphertext = 17250119573232938159495151836907345788113398812430175654066191733201327934519622049877939234487323106446778939262441322441499883118016470240906983286600405405975275723333283015774857915215814576298063848917112178624770247286048114974808099004729887688547429197942578127510912101233759373809217128865040107305284699411659572170044538767976158851028945020639377891878532187396172245359826784724912031113990729909962190626715090093246089745719249482899605241682396631713155172212615370473237731019162671529937751370463768746592055682933647328743947355593762481102849672215738899019205704001633289554719966\n",
    "modulo = 51719336593283668370261446912126485319255258778617224708410520647959236475322767644636584229070380964088870777607922268179572997129414217601241230215567764098337343256793524076040868978141016236299799031426456716364496058717536559180352016088612210860181989844954906788705998058534134464446292058222426189127398972577715363401457729737792004774929189832678271680193791993183578966529414824171500027009334274604018078392873654591487139190491950796770048687394408709037045383279375259210879772320878973829171531428762995383292175994184457145115155299673171196041635346062296031613203020122378411630001719\n",
    "exponent = 2370692877507893030572035746060036014373915956107619689350920177346027898716147057536168003507966056257828756067470679338655825857154534154205294932307\n",
    "decrypt_fourth_puzzle = DecipherSmallDiff(ciphertext, modulo, exponent)\n",
    "print(decrypt_fourth_puzzle)"
   ]
  },
  {
   "cell_type": "raw",
   "metadata": {},
   "source": [
    "Now you have both parts of the second link. To get the link, just launch the next part of the notebook. Then follow the link to get more instructions. Also, if you follow the correct link, you will get the answer to the second question of the following \"RSA Quest Quiz\"!"
   ]
  },
  {
   "cell_type": "code",
   "execution_count": 6,
   "metadata": {},
   "outputs": [
    {
     "name": "stdout",
     "output_type": "stream",
     "text": [
      "https://docs.google.com/document/d/1kubEo4ODZ_1YZl8Hvi9_73Gvk0oRTa0REiJHELNxUQo/edit?usp=sharing\n"
     ]
    }
   ],
   "source": [
    "second_secret_link = decrypt_third_puzzle + decrypt_fourth_puzzle\n",
    "print(second_secret_link)"
   ]
  },
  {
   "cell_type": "raw",
   "metadata": {},
   "source": [
    "Substitute the implementation of the function \"DecipherCommonDivisor\" below with your implementation from \"RSA Quiz\", question 6. Also, insert the corresponding values for the ciphertexts, modulos and exponents from the second secret document. Then launch to get the first and the second parts of the final answer."
   ]
  },
  {
   "cell_type": "code",
   "execution_count": 7,
   "metadata": {},
   "outputs": [
    {
     "name": "stdout",
     "output_type": "stream",
     "text": [
      "('Congratulations! Now you know that the ', 'Answer to the Ultimate Question of Life')\n"
     ]
    }
   ],
   "source": [
    "def GCD(a, b):\n",
    "    if b == 0:\n",
    "        return a\n",
    "    return GCD(b, a % b)\n",
    "\n",
    "def DecipherCommonDivisor(first_ciphertext, first_modulo, first_exponent, second_ciphertext, second_modulo, second_exponent):\n",
    "    # Substitute this implementation with your code from question 6 of the \"RSA Quiz\".  \n",
    "    # Fix this implementation to correctly decipher both messages in case\n",
    "    # first_modulo and second_modulo share a prime factor, and return\n",
    "    # a pair (first_message, second_message). The implementation below won't work\n",
    "    # if the common_prime is bigger than 1000000.\n",
    "    common_prime = GCD(first_modulo, second_modulo)\n",
    "    q1 = first_modulo // common_prime\n",
    "    q2 = second_modulo // common_prime\n",
    "    return (Decrypt(first_ciphertext, common_prime, q1, first_exponent), Decrypt(second_ciphertext, common_prime, q2, second_exponent))\n",
    "    return (\"unknown message 1\", \"unknown message 2\")\n",
    "\n",
    "first_ciphertext = 23402197839825692972957660045778005842149570897525565884030609841447497251897989699441878864356827076382914144503306327825195586612359555424774490982037582237066994974597680950158893991141848342087005739774563510316219462834998856466395854239468748012474813939969736279381474141408975441930226654470509840545902057273419529586319420996953635246047632517133343837614016964611767487664771097138242956384358875235954455242525595951902976992404807998173614628224868047333599482826829214633744976147539512358779840250950906473302037621404671062661398282452008807449216135596254412709706306612180825630285207\n",
    "first_modulo = 58430823052528382232133162302686450950325469505875659240893229402912849840784309398807910065914827693927654379087691699343872463431863820528404206238621375034134223224550898236635277014485802812169842923892545064506382750914506131733421755620169771252068722149093463194110389888198706547399113274669324939230289590384817282220066815621515694361776987606124224166139632882923972455465687163365892873407377154186582920232983732264041961425519725867802358413817383859468852644174951734478657652205963797131615641353571742901542970047092056441684257125633460892715564219695534982132772847099500990153159493\n",
    "first_exponent = 2746118316073165006639038412489080229254239843347153634155286882078957003180280976570735902213132927273096496684341374829942796710900231180504644399747\n",
    "second_ciphertext = 30727040453983198346085853479092007121170298341280644429200282752975717255888449508484551605881216103173708171060447929559225510082705090077245435032226394315334065553706481613913603534470394670437184947722155153114209268193235042140736923023590768685692783514873340402355775735846109759697748120233777810481952073715032877304902097750445981869076182666622029473694669920172468716779937348673868171294362620903115903645873289564367176851434972937848591902468604400091051094342304122317377572964272370825515688006084797380707045470951321039467067019460709497651682710286878824565888446939229639383746\n",
    "second_modulo = 42955660491543430460148980223483714568674234383080724206879432109744068992302351872678094322626198782875395264399683702531442650135501135314224418412956329257244753538669224867463416933578848236691757751760346388773871177654731330626106150400017398309330888903195999995955385444097920846918948184509773583149893677181571427932535786503554494314244294387551141996689565647925375574586590998569956897670722964200467030891957754959187718494336504559943885199686487499306417596091732019643533054349876912582987170110689841980733691588287144182824378328622431439004258091442919814253322774125364502939460173\n",
    "second_exponent = 1696307946163562648509752484630349193234799326977939859599277182356207670242676510190455023892125378267322231053560789876259990406520567562708111385869\n",
    "\n",
    "decrypt_sixth_puzzle = DecipherCommonDivisor(first_ciphertext, first_modulo, first_exponent, second_ciphertext, second_modulo, second_exponent)\n",
    "print(decrypt_sixth_puzzle)"
   ]
  },
  {
   "cell_type": "raw",
   "metadata": {},
   "source": [
    "Substitute the implementation of the function \"DecipherHastad\" below with your implementation from \"RSA Quiz\", question 7. Also, insert the values for the ciphertexts and modulos from the second secret document. Then launch to get the third - and the last - part of the final answer."
   ]
  },
  {
   "cell_type": "code",
   "execution_count": 8,
   "metadata": {},
   "outputs": [
    {
     "name": "stdout",
     "output_type": "stream",
     "text": [
      ", the Universe, and Everything is 42.\n"
     ]
    }
   ],
   "source": [
    "def ChineseRemainderTheorem(n1, r1, n2, r2):\n",
    "    (x, y) = ExtendedEuclid(n1, n2)\n",
    "    return ((r2 * x * n1 + r1 * y * n2) % (n1 * n2) + (n1 * n2)) % (n1 * n2)\n",
    "\n",
    "def DecipherHastad(first_ciphertext, first_modulo, second_ciphertext, second_modulo):\n",
    "    # Substitute this implementation with your code from question 7 of the \"RSA Quiz\".\n",
    "    r = ChineseRemainderTheorem(first_modulo, first_ciphertext, second_modulo, second_ciphertext)\n",
    "    return ConvertToStr(IntSqrt(r))\n",
    "\n",
    "first_ciphertext = 1695925818934701958536732606471007147871697773728881305981426383004125888187531096540654444788889942827682032651915812560\n",
    "first_modulo = 2019703097262944143745237345710626601616589344196612447233041278945420303895066774752152001687355425741826173570952817341\n",
    "second_ciphertext = 438180481071044087096048173519586369091293503891810459558098521655659500752405553498472135529822589328291372879622802017\n",
    "second_modulo = 968914506353797853274340817936111164236562754898105214422095149641604042531040243209810736059746240506447210425767208577\n",
    "\n",
    "decrypt_seventh_puzzle = DecipherHastad(first_ciphertext, first_modulo, second_ciphertext, second_modulo)\n",
    "print(decrypt_seventh_puzzle)"
   ]
  },
  {
   "cell_type": "raw",
   "metadata": {},
   "source": [
    "Now just launch the next part to get the final answer, then copy and paste to submit it as the answer to the question 3 of the \"RSA Quest Quiz\"!"
   ]
  },
  {
   "cell_type": "code",
   "execution_count": 9,
   "metadata": {},
   "outputs": [
    {
     "name": "stdout",
     "output_type": "stream",
     "text": [
      "Congratulations! Now you know that the Answer to the Ultimate Question of Life, the Universe, and Everything is 42.\n"
     ]
    }
   ],
   "source": [
    "final_answer = decrypt_sixth_puzzle[0] + decrypt_sixth_puzzle[1] + decrypt_seventh_puzzle\n",
    "print(final_answer)"
   ]
  }
 ],
 "metadata": {
  "kernelspec": {
   "display_name": "Python 2",
   "language": "python",
   "name": "python2"
  },
  "language_info": {
   "codemirror_mode": {
    "name": "ipython",
    "version": 2
   },
   "file_extension": ".py",
   "mimetype": "text/x-python",
   "name": "python",
   "nbconvert_exporter": "python",
   "pygments_lexer": "ipython2",
   "version": "2.7.15"
  }
 },
 "nbformat": 4,
 "nbformat_minor": 2
}